{
 "cells": [
  {
   "cell_type": "code",
   "execution_count": 1,
   "id": "e7e3b6f8",
   "metadata": {
    "execution": {
     "iopub.execute_input": "2021-10-07T18:29:34.673625Z",
     "iopub.status.busy": "2021-10-07T18:29:34.672888Z",
     "iopub.status.idle": "2021-10-07T18:29:35.708538Z",
     "shell.execute_reply": "2021-10-07T18:29:35.707447Z",
     "shell.execute_reply.started": "2021-10-07T18:11:25.56695Z"
    },
    "papermill": {
     "duration": 1.075209,
     "end_time": "2021-10-07T18:29:35.708717",
     "exception": false,
     "start_time": "2021-10-07T18:29:34.633508",
     "status": "completed"
    },
    "tags": []
   },
   "outputs": [],
   "source": [
    "#importing necessary libraries\n",
    "import numpy as np \n",
    "import pandas as pd \n",
    "import matplotlib.pyplot as plt\n",
    "import seaborn as sns\n",
    "import warnings\n",
    "warnings.filterwarnings(\"ignore\")"
   ]
  },
  {
   "cell_type": "code",
   "execution_count": 2,
   "id": "f6374964",
   "metadata": {
    "execution": {
     "iopub.execute_input": "2021-10-07T18:29:35.787167Z",
     "iopub.status.busy": "2021-10-07T18:29:35.786324Z",
     "iopub.status.idle": "2021-10-07T18:29:35.815857Z",
     "shell.execute_reply": "2021-10-07T18:29:35.815192Z",
     "shell.execute_reply.started": "2021-10-07T18:11:27.565232Z"
    },
    "papermill": {
     "duration": 0.07057,
     "end_time": "2021-10-07T18:29:35.816024",
     "exception": false,
     "start_time": "2021-10-07T18:29:35.745454",
     "status": "completed"
    },
    "tags": []
   },
   "outputs": [],
   "source": [
    "#loading dataset into pandas datframe\n",
    "data = pd.read_csv('car.csv', index_col = 'car_ID')"
   ]
  },
  {
   "cell_type": "markdown",
   "id": "df00379e",
   "metadata": {
    "papermill": {
     "duration": 0.037811,
     "end_time": "2021-10-07T18:29:35.891028",
     "exception": false,
     "start_time": "2021-10-07T18:29:35.853217",
     "status": "completed"
    },
    "tags": []
   },
   "source": [
    "# **Data Overview**"
   ]
  },
  {
   "cell_type": "code",
   "execution_count": 3,
   "id": "5f31927b",
   "metadata": {
    "execution": {
     "iopub.execute_input": "2021-10-07T18:29:35.975121Z",
     "iopub.status.busy": "2021-10-07T18:29:35.974332Z",
     "iopub.status.idle": "2021-10-07T18:29:36.003894Z",
     "shell.execute_reply": "2021-10-07T18:29:36.003275Z",
     "shell.execute_reply.started": "2021-10-07T18:11:29.573222Z"
    },
    "papermill": {
     "duration": 0.076755,
     "end_time": "2021-10-07T18:29:36.004092",
     "exception": false,
     "start_time": "2021-10-07T18:29:35.927337",
     "status": "completed"
    },
    "tags": []
   },
   "outputs": [
    {
     "data": {
      "text/html": [
       "<div>\n",
       "<style scoped>\n",
       "    .dataframe tbody tr th:only-of-type {\n",
       "        vertical-align: middle;\n",
       "    }\n",
       "\n",
       "    .dataframe tbody tr th {\n",
       "        vertical-align: top;\n",
       "    }\n",
       "\n",
       "    .dataframe thead th {\n",
       "        text-align: right;\n",
       "    }\n",
       "</style>\n",
       "<table border=\"1\" class=\"dataframe\">\n",
       "  <thead>\n",
       "    <tr style=\"text-align: right;\">\n",
       "      <th></th>\n",
       "      <th>symboling</th>\n",
       "      <th>CarName</th>\n",
       "      <th>fueltype</th>\n",
       "      <th>aspiration</th>\n",
       "      <th>doornumber</th>\n",
       "      <th>carbody</th>\n",
       "      <th>drivewheel</th>\n",
       "      <th>enginelocation</th>\n",
       "      <th>wheelbase</th>\n",
       "      <th>carlength</th>\n",
       "      <th>...</th>\n",
       "      <th>enginesize</th>\n",
       "      <th>fuelsystem</th>\n",
       "      <th>boreratio</th>\n",
       "      <th>stroke</th>\n",
       "      <th>compressionratio</th>\n",
       "      <th>horsepower</th>\n",
       "      <th>peakrpm</th>\n",
       "      <th>citympg</th>\n",
       "      <th>highwaympg</th>\n",
       "      <th>price</th>\n",
       "    </tr>\n",
       "    <tr>\n",
       "      <th>car_ID</th>\n",
       "      <th></th>\n",
       "      <th></th>\n",
       "      <th></th>\n",
       "      <th></th>\n",
       "      <th></th>\n",
       "      <th></th>\n",
       "      <th></th>\n",
       "      <th></th>\n",
       "      <th></th>\n",
       "      <th></th>\n",
       "      <th></th>\n",
       "      <th></th>\n",
       "      <th></th>\n",
       "      <th></th>\n",
       "      <th></th>\n",
       "      <th></th>\n",
       "      <th></th>\n",
       "      <th></th>\n",
       "      <th></th>\n",
       "      <th></th>\n",
       "      <th></th>\n",
       "    </tr>\n",
       "  </thead>\n",
       "  <tbody>\n",
       "    <tr>\n",
       "      <th>1</th>\n",
       "      <td>3</td>\n",
       "      <td>alfa-romero giulia</td>\n",
       "      <td>gas</td>\n",
       "      <td>std</td>\n",
       "      <td>two</td>\n",
       "      <td>convertible</td>\n",
       "      <td>rwd</td>\n",
       "      <td>front</td>\n",
       "      <td>88.6</td>\n",
       "      <td>168.8</td>\n",
       "      <td>...</td>\n",
       "      <td>130</td>\n",
       "      <td>mpfi</td>\n",
       "      <td>3.47</td>\n",
       "      <td>2.68</td>\n",
       "      <td>9.0</td>\n",
       "      <td>111</td>\n",
       "      <td>5000</td>\n",
       "      <td>21</td>\n",
       "      <td>27</td>\n",
       "      <td>13495.0</td>\n",
       "    </tr>\n",
       "    <tr>\n",
       "      <th>2</th>\n",
       "      <td>3</td>\n",
       "      <td>alfa-romero stelvio</td>\n",
       "      <td>gas</td>\n",
       "      <td>std</td>\n",
       "      <td>two</td>\n",
       "      <td>convertible</td>\n",
       "      <td>rwd</td>\n",
       "      <td>front</td>\n",
       "      <td>88.6</td>\n",
       "      <td>168.8</td>\n",
       "      <td>...</td>\n",
       "      <td>130</td>\n",
       "      <td>mpfi</td>\n",
       "      <td>3.47</td>\n",
       "      <td>2.68</td>\n",
       "      <td>9.0</td>\n",
       "      <td>111</td>\n",
       "      <td>5000</td>\n",
       "      <td>21</td>\n",
       "      <td>27</td>\n",
       "      <td>16500.0</td>\n",
       "    </tr>\n",
       "    <tr>\n",
       "      <th>3</th>\n",
       "      <td>1</td>\n",
       "      <td>alfa-romero Quadrifoglio</td>\n",
       "      <td>gas</td>\n",
       "      <td>std</td>\n",
       "      <td>two</td>\n",
       "      <td>hatchback</td>\n",
       "      <td>rwd</td>\n",
       "      <td>front</td>\n",
       "      <td>94.5</td>\n",
       "      <td>171.2</td>\n",
       "      <td>...</td>\n",
       "      <td>152</td>\n",
       "      <td>mpfi</td>\n",
       "      <td>2.68</td>\n",
       "      <td>3.47</td>\n",
       "      <td>9.0</td>\n",
       "      <td>154</td>\n",
       "      <td>5000</td>\n",
       "      <td>19</td>\n",
       "      <td>26</td>\n",
       "      <td>16500.0</td>\n",
       "    </tr>\n",
       "    <tr>\n",
       "      <th>4</th>\n",
       "      <td>2</td>\n",
       "      <td>audi 100 ls</td>\n",
       "      <td>gas</td>\n",
       "      <td>std</td>\n",
       "      <td>four</td>\n",
       "      <td>sedan</td>\n",
       "      <td>fwd</td>\n",
       "      <td>front</td>\n",
       "      <td>99.8</td>\n",
       "      <td>176.6</td>\n",
       "      <td>...</td>\n",
       "      <td>109</td>\n",
       "      <td>mpfi</td>\n",
       "      <td>3.19</td>\n",
       "      <td>3.40</td>\n",
       "      <td>10.0</td>\n",
       "      <td>102</td>\n",
       "      <td>5500</td>\n",
       "      <td>24</td>\n",
       "      <td>30</td>\n",
       "      <td>13950.0</td>\n",
       "    </tr>\n",
       "    <tr>\n",
       "      <th>5</th>\n",
       "      <td>2</td>\n",
       "      <td>audi 100ls</td>\n",
       "      <td>gas</td>\n",
       "      <td>std</td>\n",
       "      <td>four</td>\n",
       "      <td>sedan</td>\n",
       "      <td>4wd</td>\n",
       "      <td>front</td>\n",
       "      <td>99.4</td>\n",
       "      <td>176.6</td>\n",
       "      <td>...</td>\n",
       "      <td>136</td>\n",
       "      <td>mpfi</td>\n",
       "      <td>3.19</td>\n",
       "      <td>3.40</td>\n",
       "      <td>8.0</td>\n",
       "      <td>115</td>\n",
       "      <td>5500</td>\n",
       "      <td>18</td>\n",
       "      <td>22</td>\n",
       "      <td>17450.0</td>\n",
       "    </tr>\n",
       "  </tbody>\n",
       "</table>\n",
       "<p>5 rows × 25 columns</p>\n",
       "</div>"
      ],
      "text/plain": [
       "        symboling                   CarName fueltype aspiration doornumber  \\\n",
       "car_ID                                                                       \n",
       "1               3        alfa-romero giulia      gas        std        two   \n",
       "2               3       alfa-romero stelvio      gas        std        two   \n",
       "3               1  alfa-romero Quadrifoglio      gas        std        two   \n",
       "4               2               audi 100 ls      gas        std       four   \n",
       "5               2                audi 100ls      gas        std       four   \n",
       "\n",
       "            carbody drivewheel enginelocation  wheelbase  carlength  ...  \\\n",
       "car_ID                                                               ...   \n",
       "1       convertible        rwd          front       88.6      168.8  ...   \n",
       "2       convertible        rwd          front       88.6      168.8  ...   \n",
       "3         hatchback        rwd          front       94.5      171.2  ...   \n",
       "4             sedan        fwd          front       99.8      176.6  ...   \n",
       "5             sedan        4wd          front       99.4      176.6  ...   \n",
       "\n",
       "        enginesize  fuelsystem  boreratio stroke compressionratio  horsepower  \\\n",
       "car_ID                                                                          \n",
       "1              130        mpfi       3.47   2.68              9.0         111   \n",
       "2              130        mpfi       3.47   2.68              9.0         111   \n",
       "3              152        mpfi       2.68   3.47              9.0         154   \n",
       "4              109        mpfi       3.19   3.40             10.0         102   \n",
       "5              136        mpfi       3.19   3.40              8.0         115   \n",
       "\n",
       "       peakrpm  citympg  highwaympg    price  \n",
       "car_ID                                        \n",
       "1         5000       21          27  13495.0  \n",
       "2         5000       21          27  16500.0  \n",
       "3         5000       19          26  16500.0  \n",
       "4         5500       24          30  13950.0  \n",
       "5         5500       18          22  17450.0  \n",
       "\n",
       "[5 rows x 25 columns]"
      ]
     },
     "execution_count": 3,
     "metadata": {},
     "output_type": "execute_result"
    }
   ],
   "source": [
    "#view first 5 rows\n",
    "data.head()"
   ]
  },
  {
   "cell_type": "code",
   "execution_count": 4,
   "id": "91372009",
   "metadata": {
    "execution": {
     "iopub.execute_input": "2021-10-07T18:29:36.083008Z",
     "iopub.status.busy": "2021-10-07T18:29:36.082275Z",
     "iopub.status.idle": "2021-10-07T18:29:36.136701Z",
     "shell.execute_reply": "2021-10-07T18:29:36.136023Z",
     "shell.execute_reply.started": "2021-10-07T18:11:31.855192Z"
    },
    "papermill": {
     "duration": 0.095355,
     "end_time": "2021-10-07T18:29:36.136850",
     "exception": false,
     "start_time": "2021-10-07T18:29:36.041495",
     "status": "completed"
    },
    "tags": []
   },
   "outputs": [
    {
     "data": {
      "text/html": [
       "<div>\n",
       "<style scoped>\n",
       "    .dataframe tbody tr th:only-of-type {\n",
       "        vertical-align: middle;\n",
       "    }\n",
       "\n",
       "    .dataframe tbody tr th {\n",
       "        vertical-align: top;\n",
       "    }\n",
       "\n",
       "    .dataframe thead th {\n",
       "        text-align: right;\n",
       "    }\n",
       "</style>\n",
       "<table border=\"1\" class=\"dataframe\">\n",
       "  <thead>\n",
       "    <tr style=\"text-align: right;\">\n",
       "      <th></th>\n",
       "      <th>symboling</th>\n",
       "      <th>wheelbase</th>\n",
       "      <th>carlength</th>\n",
       "      <th>carwidth</th>\n",
       "      <th>carheight</th>\n",
       "      <th>curbweight</th>\n",
       "      <th>enginesize</th>\n",
       "      <th>boreratio</th>\n",
       "      <th>stroke</th>\n",
       "      <th>compressionratio</th>\n",
       "      <th>horsepower</th>\n",
       "      <th>peakrpm</th>\n",
       "      <th>citympg</th>\n",
       "      <th>highwaympg</th>\n",
       "      <th>price</th>\n",
       "    </tr>\n",
       "  </thead>\n",
       "  <tbody>\n",
       "    <tr>\n",
       "      <th>count</th>\n",
       "      <td>205.000000</td>\n",
       "      <td>205.000000</td>\n",
       "      <td>205.000000</td>\n",
       "      <td>205.000000</td>\n",
       "      <td>205.000000</td>\n",
       "      <td>205.000000</td>\n",
       "      <td>205.000000</td>\n",
       "      <td>205.000000</td>\n",
       "      <td>205.000000</td>\n",
       "      <td>205.000000</td>\n",
       "      <td>205.000000</td>\n",
       "      <td>205.000000</td>\n",
       "      <td>205.000000</td>\n",
       "      <td>205.000000</td>\n",
       "      <td>205.000000</td>\n",
       "    </tr>\n",
       "    <tr>\n",
       "      <th>mean</th>\n",
       "      <td>0.834146</td>\n",
       "      <td>98.756585</td>\n",
       "      <td>174.049268</td>\n",
       "      <td>65.907805</td>\n",
       "      <td>53.724878</td>\n",
       "      <td>2555.565854</td>\n",
       "      <td>126.907317</td>\n",
       "      <td>3.329756</td>\n",
       "      <td>3.255415</td>\n",
       "      <td>10.142537</td>\n",
       "      <td>104.117073</td>\n",
       "      <td>5125.121951</td>\n",
       "      <td>25.219512</td>\n",
       "      <td>30.751220</td>\n",
       "      <td>13276.710571</td>\n",
       "    </tr>\n",
       "    <tr>\n",
       "      <th>std</th>\n",
       "      <td>1.245307</td>\n",
       "      <td>6.021776</td>\n",
       "      <td>12.337289</td>\n",
       "      <td>2.145204</td>\n",
       "      <td>2.443522</td>\n",
       "      <td>520.680204</td>\n",
       "      <td>41.642693</td>\n",
       "      <td>0.270844</td>\n",
       "      <td>0.313597</td>\n",
       "      <td>3.972040</td>\n",
       "      <td>39.544167</td>\n",
       "      <td>476.985643</td>\n",
       "      <td>6.542142</td>\n",
       "      <td>6.886443</td>\n",
       "      <td>7988.852332</td>\n",
       "    </tr>\n",
       "    <tr>\n",
       "      <th>min</th>\n",
       "      <td>-2.000000</td>\n",
       "      <td>86.600000</td>\n",
       "      <td>141.100000</td>\n",
       "      <td>60.300000</td>\n",
       "      <td>47.800000</td>\n",
       "      <td>1488.000000</td>\n",
       "      <td>61.000000</td>\n",
       "      <td>2.540000</td>\n",
       "      <td>2.070000</td>\n",
       "      <td>7.000000</td>\n",
       "      <td>48.000000</td>\n",
       "      <td>4150.000000</td>\n",
       "      <td>13.000000</td>\n",
       "      <td>16.000000</td>\n",
       "      <td>5118.000000</td>\n",
       "    </tr>\n",
       "    <tr>\n",
       "      <th>25%</th>\n",
       "      <td>0.000000</td>\n",
       "      <td>94.500000</td>\n",
       "      <td>166.300000</td>\n",
       "      <td>64.100000</td>\n",
       "      <td>52.000000</td>\n",
       "      <td>2145.000000</td>\n",
       "      <td>97.000000</td>\n",
       "      <td>3.150000</td>\n",
       "      <td>3.110000</td>\n",
       "      <td>8.600000</td>\n",
       "      <td>70.000000</td>\n",
       "      <td>4800.000000</td>\n",
       "      <td>19.000000</td>\n",
       "      <td>25.000000</td>\n",
       "      <td>7788.000000</td>\n",
       "    </tr>\n",
       "    <tr>\n",
       "      <th>50%</th>\n",
       "      <td>1.000000</td>\n",
       "      <td>97.000000</td>\n",
       "      <td>173.200000</td>\n",
       "      <td>65.500000</td>\n",
       "      <td>54.100000</td>\n",
       "      <td>2414.000000</td>\n",
       "      <td>120.000000</td>\n",
       "      <td>3.310000</td>\n",
       "      <td>3.290000</td>\n",
       "      <td>9.000000</td>\n",
       "      <td>95.000000</td>\n",
       "      <td>5200.000000</td>\n",
       "      <td>24.000000</td>\n",
       "      <td>30.000000</td>\n",
       "      <td>10295.000000</td>\n",
       "    </tr>\n",
       "    <tr>\n",
       "      <th>75%</th>\n",
       "      <td>2.000000</td>\n",
       "      <td>102.400000</td>\n",
       "      <td>183.100000</td>\n",
       "      <td>66.900000</td>\n",
       "      <td>55.500000</td>\n",
       "      <td>2935.000000</td>\n",
       "      <td>141.000000</td>\n",
       "      <td>3.580000</td>\n",
       "      <td>3.410000</td>\n",
       "      <td>9.400000</td>\n",
       "      <td>116.000000</td>\n",
       "      <td>5500.000000</td>\n",
       "      <td>30.000000</td>\n",
       "      <td>34.000000</td>\n",
       "      <td>16503.000000</td>\n",
       "    </tr>\n",
       "    <tr>\n",
       "      <th>max</th>\n",
       "      <td>3.000000</td>\n",
       "      <td>120.900000</td>\n",
       "      <td>208.100000</td>\n",
       "      <td>72.300000</td>\n",
       "      <td>59.800000</td>\n",
       "      <td>4066.000000</td>\n",
       "      <td>326.000000</td>\n",
       "      <td>3.940000</td>\n",
       "      <td>4.170000</td>\n",
       "      <td>23.000000</td>\n",
       "      <td>288.000000</td>\n",
       "      <td>6600.000000</td>\n",
       "      <td>49.000000</td>\n",
       "      <td>54.000000</td>\n",
       "      <td>45400.000000</td>\n",
       "    </tr>\n",
       "  </tbody>\n",
       "</table>\n",
       "</div>"
      ],
      "text/plain": [
       "        symboling   wheelbase   carlength    carwidth   carheight  \\\n",
       "count  205.000000  205.000000  205.000000  205.000000  205.000000   \n",
       "mean     0.834146   98.756585  174.049268   65.907805   53.724878   \n",
       "std      1.245307    6.021776   12.337289    2.145204    2.443522   \n",
       "min     -2.000000   86.600000  141.100000   60.300000   47.800000   \n",
       "25%      0.000000   94.500000  166.300000   64.100000   52.000000   \n",
       "50%      1.000000   97.000000  173.200000   65.500000   54.100000   \n",
       "75%      2.000000  102.400000  183.100000   66.900000   55.500000   \n",
       "max      3.000000  120.900000  208.100000   72.300000   59.800000   \n",
       "\n",
       "        curbweight  enginesize   boreratio      stroke  compressionratio  \\\n",
       "count   205.000000  205.000000  205.000000  205.000000        205.000000   \n",
       "mean   2555.565854  126.907317    3.329756    3.255415         10.142537   \n",
       "std     520.680204   41.642693    0.270844    0.313597          3.972040   \n",
       "min    1488.000000   61.000000    2.540000    2.070000          7.000000   \n",
       "25%    2145.000000   97.000000    3.150000    3.110000          8.600000   \n",
       "50%    2414.000000  120.000000    3.310000    3.290000          9.000000   \n",
       "75%    2935.000000  141.000000    3.580000    3.410000          9.400000   \n",
       "max    4066.000000  326.000000    3.940000    4.170000         23.000000   \n",
       "\n",
       "       horsepower      peakrpm     citympg  highwaympg         price  \n",
       "count  205.000000   205.000000  205.000000  205.000000    205.000000  \n",
       "mean   104.117073  5125.121951   25.219512   30.751220  13276.710571  \n",
       "std     39.544167   476.985643    6.542142    6.886443   7988.852332  \n",
       "min     48.000000  4150.000000   13.000000   16.000000   5118.000000  \n",
       "25%     70.000000  4800.000000   19.000000   25.000000   7788.000000  \n",
       "50%     95.000000  5200.000000   24.000000   30.000000  10295.000000  \n",
       "75%    116.000000  5500.000000   30.000000   34.000000  16503.000000  \n",
       "max    288.000000  6600.000000   49.000000   54.000000  45400.000000  "
      ]
     },
     "execution_count": 4,
     "metadata": {},
     "output_type": "execute_result"
    }
   ],
   "source": [
    "#view statistical info about the data\n",
    "data.describe()"
   ]
  },
  {
   "cell_type": "code",
   "execution_count": 5,
   "id": "7286dbe7",
   "metadata": {
    "execution": {
     "iopub.execute_input": "2021-10-07T18:29:36.225944Z",
     "iopub.status.busy": "2021-10-07T18:29:36.225209Z",
     "iopub.status.idle": "2021-10-07T18:29:36.235189Z",
     "shell.execute_reply": "2021-10-07T18:29:36.235817Z",
     "shell.execute_reply.started": "2021-10-07T18:11:34.305638Z"
    },
    "papermill": {
     "duration": 0.059987,
     "end_time": "2021-10-07T18:29:36.235997",
     "exception": false,
     "start_time": "2021-10-07T18:29:36.176010",
     "status": "completed"
    },
    "tags": []
   },
   "outputs": [
    {
     "name": "stdout",
     "output_type": "stream",
     "text": [
      "<class 'pandas.core.frame.DataFrame'>\n",
      "Int64Index: 205 entries, 1 to 205\n",
      "Data columns (total 25 columns):\n",
      " #   Column            Non-Null Count  Dtype  \n",
      "---  ------            --------------  -----  \n",
      " 0   symboling         205 non-null    int64  \n",
      " 1   CarName           205 non-null    object \n",
      " 2   fueltype          205 non-null    object \n",
      " 3   aspiration        205 non-null    object \n",
      " 4   doornumber        205 non-null    object \n",
      " 5   carbody           205 non-null    object \n",
      " 6   drivewheel        205 non-null    object \n",
      " 7   enginelocation    205 non-null    object \n",
      " 8   wheelbase         205 non-null    float64\n",
      " 9   carlength         205 non-null    float64\n",
      " 10  carwidth          205 non-null    float64\n",
      " 11  carheight         205 non-null    float64\n",
      " 12  curbweight        205 non-null    int64  \n",
      " 13  enginetype        205 non-null    object \n",
      " 14  cylindernumber    205 non-null    object \n",
      " 15  enginesize        205 non-null    int64  \n",
      " 16  fuelsystem        205 non-null    object \n",
      " 17  boreratio         205 non-null    float64\n",
      " 18  stroke            205 non-null    float64\n",
      " 19  compressionratio  205 non-null    float64\n",
      " 20  horsepower        205 non-null    int64  \n",
      " 21  peakrpm           205 non-null    int64  \n",
      " 22  citympg           205 non-null    int64  \n",
      " 23  highwaympg        205 non-null    int64  \n",
      " 24  price             205 non-null    float64\n",
      "dtypes: float64(8), int64(7), object(10)\n",
      "memory usage: 33.6+ KB\n"
     ]
    }
   ],
   "source": [
    "#information about datatypes of column and null count\n",
    "data.info()"
   ]
  },
  {
   "cell_type": "code",
   "execution_count": 6,
   "id": "464371fe",
   "metadata": {
    "execution": {
     "iopub.execute_input": "2021-10-07T18:29:36.315493Z",
     "iopub.status.busy": "2021-10-07T18:29:36.314791Z",
     "iopub.status.idle": "2021-10-07T18:29:36.328613Z",
     "shell.execute_reply": "2021-10-07T18:29:36.327953Z",
     "shell.execute_reply.started": "2021-10-07T18:11:36.365833Z"
    },
    "papermill": {
     "duration": 0.054747,
     "end_time": "2021-10-07T18:29:36.328755",
     "exception": false,
     "start_time": "2021-10-07T18:29:36.274008",
     "status": "completed"
    },
    "tags": []
   },
   "outputs": [
    {
     "data": {
      "text/plain": [
       "symboling             6\n",
       "CarName             147\n",
       "fueltype              2\n",
       "aspiration            2\n",
       "doornumber            2\n",
       "carbody               5\n",
       "drivewheel            3\n",
       "enginelocation        2\n",
       "wheelbase            53\n",
       "carlength            75\n",
       "carwidth             44\n",
       "carheight            49\n",
       "curbweight          171\n",
       "enginetype            7\n",
       "cylindernumber        7\n",
       "enginesize           44\n",
       "fuelsystem            8\n",
       "boreratio            38\n",
       "stroke               37\n",
       "compressionratio     32\n",
       "horsepower           59\n",
       "peakrpm              23\n",
       "citympg              29\n",
       "highwaympg           30\n",
       "price               189\n",
       "dtype: int64"
      ]
     },
     "execution_count": 6,
     "metadata": {},
     "output_type": "execute_result"
    }
   ],
   "source": [
    "data.nunique()"
   ]
  },
  {
   "cell_type": "markdown",
   "id": "a15245a7",
   "metadata": {
    "papermill": {
     "duration": 0.037541,
     "end_time": "2021-10-07T18:29:36.480201",
     "exception": false,
     "start_time": "2021-10-07T18:29:36.442660",
     "status": "completed"
    },
    "tags": []
   },
   "source": [
    "# Data preprocessing"
   ]
  },
  {
   "cell_type": "code",
   "execution_count": 7,
   "id": "21646f29",
   "metadata": {
    "execution": {
     "iopub.execute_input": "2021-10-07T18:29:36.565290Z",
     "iopub.status.busy": "2021-10-07T18:29:36.564128Z",
     "iopub.status.idle": "2021-10-07T18:29:36.567856Z",
     "shell.execute_reply": "2021-10-07T18:29:36.567182Z",
     "shell.execute_reply.started": "2021-10-07T18:11:39.865344Z"
    },
    "papermill": {
     "duration": 0.049912,
     "end_time": "2021-10-07T18:29:36.568000",
     "exception": false,
     "start_time": "2021-10-07T18:29:36.518088",
     "status": "completed"
    },
    "tags": []
   },
   "outputs": [],
   "source": [
    "# adding new column CarBrand \n",
    "data['CarBrand']=data['CarName'].apply(lambda x: x.split()[0])\n",
    "#deleting carname column as we don't need it\n",
    "del data['CarName']                              "
   ]
  },
  {
   "cell_type": "code",
   "execution_count": 8,
   "id": "d709f83c",
   "metadata": {
    "execution": {
     "iopub.execute_input": "2021-10-07T18:29:36.647279Z",
     "iopub.status.busy": "2021-10-07T18:29:36.646672Z",
     "iopub.status.idle": "2021-10-07T18:29:36.654555Z",
     "shell.execute_reply": "2021-10-07T18:29:36.655060Z",
     "shell.execute_reply.started": "2021-10-07T18:11:42.67516Z"
    },
    "papermill": {
     "duration": 0.049379,
     "end_time": "2021-10-07T18:29:36.655229",
     "exception": false,
     "start_time": "2021-10-07T18:29:36.605850",
     "status": "completed"
    },
    "tags": []
   },
   "outputs": [
    {
     "data": {
      "text/plain": [
       "toyota         31\n",
       "nissan         17\n",
       "mazda          15\n",
       "honda          13\n",
       "mitsubishi     13\n",
       "subaru         12\n",
       "peugeot        11\n",
       "volvo          11\n",
       "volkswagen      9\n",
       "dodge           9\n",
       "buick           8\n",
       "bmw             8\n",
       "audi            7\n",
       "plymouth        7\n",
       "saab            6\n",
       "isuzu           4\n",
       "porsche         4\n",
       "alfa-romero     3\n",
       "chevrolet       3\n",
       "jaguar          3\n",
       "vw              2\n",
       "maxda           2\n",
       "renault         2\n",
       "toyouta         1\n",
       "vokswagen       1\n",
       "Nissan          1\n",
       "mercury         1\n",
       "porcshce        1\n",
       "Name: CarBrand, dtype: int64"
      ]
     },
     "execution_count": 8,
     "metadata": {},
     "output_type": "execute_result"
    }
   ],
   "source": [
    "data['CarBrand'].value_counts()"
   ]
  },
  {
   "cell_type": "markdown",
   "id": "319ecb12",
   "metadata": {
    "papermill": {
     "duration": 0.037974,
     "end_time": "2021-10-07T18:29:36.731509",
     "exception": false,
     "start_time": "2021-10-07T18:29:36.693535",
     "status": "completed"
    },
    "tags": []
   },
   "source": [
    "**We can see some names are incorrect like toyouta, vokswagen etc**"
   ]
  },
  {
   "cell_type": "code",
   "execution_count": 9,
   "id": "2ef48a7a",
   "metadata": {
    "execution": {
     "iopub.execute_input": "2021-10-07T18:29:36.811491Z",
     "iopub.status.busy": "2021-10-07T18:29:36.810795Z",
     "iopub.status.idle": "2021-10-07T18:29:36.824893Z",
     "shell.execute_reply": "2021-10-07T18:29:36.825442Z",
     "shell.execute_reply.started": "2021-10-07T18:11:45.395335Z"
    },
    "papermill": {
     "duration": 0.055886,
     "end_time": "2021-10-07T18:29:36.825631",
     "exception": false,
     "start_time": "2021-10-07T18:29:36.769745",
     "status": "completed"
    },
    "tags": []
   },
   "outputs": [],
   "source": [
    "data=data.replace('vokswagen','volkswagen')\n",
    "data=data.replace('toyouta','toyota')\n",
    "data=data.replace('porcshce', 'porsche')\n",
    "data=data.replace('Nissan','nissan')\n",
    "data=data.replace('maxda', 'mazda')\n",
    "data=data.replace('vw','volkswagen')"
   ]
  },
  {
   "cell_type": "code",
   "execution_count": 10,
   "id": "ef1a0272",
   "metadata": {
    "execution": {
     "iopub.execute_input": "2021-10-07T18:29:36.906886Z",
     "iopub.status.busy": "2021-10-07T18:29:36.906242Z",
     "iopub.status.idle": "2021-10-07T18:29:36.913848Z",
     "shell.execute_reply": "2021-10-07T18:29:36.914396Z",
     "shell.execute_reply.started": "2021-10-07T18:11:47.505784Z"
    },
    "papermill": {
     "duration": 0.05042,
     "end_time": "2021-10-07T18:29:36.914567",
     "exception": false,
     "start_time": "2021-10-07T18:29:36.864147",
     "status": "completed"
    },
    "tags": []
   },
   "outputs": [
    {
     "data": {
      "text/plain": [
       "toyota         32\n",
       "nissan         18\n",
       "mazda          17\n",
       "mitsubishi     13\n",
       "honda          13\n",
       "volkswagen     12\n",
       "subaru         12\n",
       "peugeot        11\n",
       "volvo          11\n",
       "dodge           9\n",
       "buick           8\n",
       "bmw             8\n",
       "audi            7\n",
       "plymouth        7\n",
       "saab            6\n",
       "porsche         5\n",
       "isuzu           4\n",
       "jaguar          3\n",
       "chevrolet       3\n",
       "alfa-romero     3\n",
       "renault         2\n",
       "mercury         1\n",
       "Name: CarBrand, dtype: int64"
      ]
     },
     "execution_count": 10,
     "metadata": {},
     "output_type": "execute_result"
    }
   ],
   "source": [
    "data['CarBrand'].value_counts()"
   ]
  },
  {
   "cell_type": "markdown",
   "id": "e0a3ccc5",
   "metadata": {},
   "source": [
    "All of the incorrect spellings have been fixed"
   ]
  },
  {
   "cell_type": "code",
   "execution_count": 11,
   "id": "b528e88a",
   "metadata": {
    "execution": {
     "iopub.execute_input": "2021-10-07T18:29:36.999562Z",
     "iopub.status.busy": "2021-10-07T18:29:36.996141Z",
     "iopub.status.idle": "2021-10-07T18:29:37.011279Z",
     "shell.execute_reply": "2021-10-07T18:29:37.010740Z",
     "shell.execute_reply.started": "2021-10-07T18:11:50.025468Z"
    },
    "papermill": {
     "duration": 0.057663,
     "end_time": "2021-10-07T18:29:37.011486",
     "exception": false,
     "start_time": "2021-10-07T18:29:36.953823",
     "status": "completed"
    },
    "tags": []
   },
   "outputs": [],
   "source": [
    "#remove duplicates if any\n",
    "data = data.drop_duplicates()"
   ]
  },
  {
   "cell_type": "code",
   "execution_count": 12,
   "id": "e6f3291f",
   "metadata": {
    "execution": {
     "iopub.execute_input": "2021-10-07T18:29:37.100238Z",
     "iopub.status.busy": "2021-10-07T18:29:37.099518Z",
     "iopub.status.idle": "2021-10-07T18:29:37.104820Z",
     "shell.execute_reply": "2021-10-07T18:29:37.104185Z",
     "shell.execute_reply.started": "2021-10-07T18:23:58.547092Z"
    },
    "papermill": {
     "duration": 0.053152,
     "end_time": "2021-10-07T18:29:37.104975",
     "exception": false,
     "start_time": "2021-10-07T18:29:37.051823",
     "status": "completed"
    },
    "tags": []
   },
   "outputs": [],
   "source": [
    "# Finding number of numerical and categorical features in dataset\n",
    "data1 = data.drop(['price'], axis=1)\n",
    "numerical_features = [col for col in data1 if data1[col].dtype != 'object']\n",
    "categorical_features = [col for col in data1 if data1[col].dtype == 'object']"
   ]
  },
  {
   "cell_type": "code",
   "execution_count": 13,
   "id": "d829ed78",
   "metadata": {
    "execution": {
     "iopub.execute_input": "2021-10-07T18:29:37.188427Z",
     "iopub.status.busy": "2021-10-07T18:29:37.187747Z",
     "iopub.status.idle": "2021-10-07T18:29:37.194178Z",
     "shell.execute_reply": "2021-10-07T18:29:37.193645Z",
     "shell.execute_reply.started": "2021-10-07T18:24:01.62574Z"
    },
    "papermill": {
     "duration": 0.050073,
     "end_time": "2021-10-07T18:29:37.194333",
     "exception": false,
     "start_time": "2021-10-07T18:29:37.144260",
     "status": "completed"
    },
    "tags": []
   },
   "outputs": [
    {
     "name": "stdout",
     "output_type": "stream",
     "text": [
      "Numerical_features_count = 14\n",
      "Categorical_features_count = 10\n"
     ]
    }
   ],
   "source": [
    "print(\"Numerical_features_count =\", len(numerical_features))\n",
    "print(\"Categorical_features_count =\",len(categorical_features))"
   ]
  },
  {
   "cell_type": "code",
   "execution_count": 14,
   "id": "9eda01eb",
   "metadata": {
    "execution": {
     "iopub.execute_input": "2021-10-07T18:29:37.279648Z",
     "iopub.status.busy": "2021-10-07T18:29:37.278923Z",
     "iopub.status.idle": "2021-10-07T18:29:37.287185Z",
     "shell.execute_reply": "2021-10-07T18:29:37.287746Z",
     "shell.execute_reply.started": "2021-10-07T18:11:53.645511Z"
    },
    "papermill": {
     "duration": 0.052156,
     "end_time": "2021-10-07T18:29:37.287929",
     "exception": false,
     "start_time": "2021-10-07T18:29:37.235773",
     "status": "completed"
    },
    "tags": []
   },
   "outputs": [
    {
     "name": "stdout",
     "output_type": "stream",
     "text": [
      "Numerical Columns:  Index(['symboling', 'wheelbase', 'carlength', 'carwidth', 'carheight',\n",
      "       'curbweight', 'enginesize', 'boreratio', 'stroke', 'compressionratio',\n",
      "       'horsepower', 'peakrpm', 'citympg', 'highwaympg'],\n",
      "      dtype='object')\n",
      "\n",
      "\n",
      "Categorical Columns: Index(['fueltype', 'aspiration', 'doornumber', 'carbody', 'drivewheel',\n",
      "       'enginelocation', 'enginetype', 'cylindernumber', 'fuelsystem',\n",
      "       'CarBrand'],\n",
      "      dtype='object')\n"
     ]
    }
   ],
   "source": [
    "print(f'Numerical Columns:  {data[numerical_features].columns}')\n",
    "print('\\n')\n",
    "print(f'Categorical Columns: {data[categorical_features].columns}')"
   ]
  },
  {
   "cell_type": "markdown",
   "id": "e3216320",
   "metadata": {
    "papermill": {
     "duration": 0.039038,
     "end_time": "2021-10-07T18:29:37.366292",
     "exception": false,
     "start_time": "2021-10-07T18:29:37.327254",
     "status": "completed"
    },
    "tags": []
   },
   "source": [
    "# Data Visulization"
   ]
  },
  {
   "cell_type": "code",
   "execution_count": 15,
   "id": "ccae3491",
   "metadata": {
    "execution": {
     "iopub.execute_input": "2021-10-07T18:29:37.449420Z",
     "iopub.status.busy": "2021-10-07T18:29:37.448747Z",
     "iopub.status.idle": "2021-10-07T18:29:37.767397Z",
     "shell.execute_reply": "2021-10-07T18:29:37.766844Z",
     "shell.execute_reply.started": "2021-10-07T18:11:56.885408Z"
    },
    "papermill": {
     "duration": 0.361982,
     "end_time": "2021-10-07T18:29:37.767537",
     "exception": false,
     "start_time": "2021-10-07T18:29:37.405555",
     "status": "completed"
    },
    "tags": []
   },
   "outputs": [
    {
     "data": {
      "text/plain": [
       "Text(0.5, 1.0, 'Price distribution')"
      ]
     },
     "execution_count": 15,
     "metadata": {},
     "output_type": "execute_result"
    },
    {
     "data": {
      "image/png": "[encoded data removed]",
      "text/plain": [
       "<Figure size 504x288 with 1 Axes>"
      ]
     },
     "metadata": {
      "needs_background": "light"
     },
     "output_type": "display_data"
    }
   ],
   "source": [
    "# For checking the skewedness of data's target, Drawing the target distribution\n",
    "target = data['price']\n",
    "fig=plt.figure(figsize=(7,4))\n",
    "sns.distplot(target)\n",
    "plt.title(\"Price distribution\")"
   ]
  },
  {
   "cell_type": "code",
   "execution_count": 16,
   "id": "ad4f427b",
   "metadata": {
    "execution": {
     "iopub.execute_input": "2021-10-07T18:29:37.854797Z",
     "iopub.status.busy": "2021-10-07T18:29:37.852430Z",
     "iopub.status.idle": "2021-10-07T18:29:37.860821Z",
     "shell.execute_reply": "2021-10-07T18:29:37.859422Z",
     "shell.execute_reply.started": "2021-10-07T18:11:59.476106Z"
    },
    "papermill": {
     "duration": 0.052703,
     "end_time": "2021-10-07T18:29:37.861045",
     "exception": false,
     "start_time": "2021-10-07T18:29:37.808342",
     "status": "completed"
    },
    "tags": []
   },
   "outputs": [
    {
     "name": "stdout",
     "output_type": "stream",
     "text": [
      "Skewnwess = 1.7776781560914454\n"
     ]
    }
   ],
   "source": [
    "print(\"Skewnwess =\", target.skew())"
   ]
  },
  {
   "cell_type": "code",
   "execution_count": 17,
   "id": "36aee396",
   "metadata": {
    "execution": {
     "iopub.execute_input": "2021-10-07T18:30:26.195109Z",
     "iopub.status.busy": "2021-10-07T18:30:26.194369Z",
     "iopub.status.idle": "2021-10-07T18:30:27.615903Z",
     "shell.execute_reply": "2021-10-07T18:30:27.616530Z",
     "shell.execute_reply.started": "2021-10-07T18:14:24.909422Z"
    },
    "papermill": {
     "duration": 1.501673,
     "end_time": "2021-10-07T18:30:27.616764",
     "exception": false,
     "start_time": "2021-10-07T18:30:26.115091",
     "status": "completed"
    },
    "tags": []
   },
   "outputs": [
    {
     "data": {
      "text/plain": [
       "<AxesSubplot:>"
      ]
     },
     "execution_count": 17,
     "metadata": {},
     "output_type": "execute_result"
    },
    {
     "data": {
      "image/png": "[encoded data removed]",
      "text/plain": [
       "<Figure size 720x720 with 2 Axes>"
      ]
     },
     "metadata": {
      "needs_background": "light"
     },
     "output_type": "display_data"
    }
   ],
   "source": [
    "fig, ax = plt.subplots(figsize=(10,10)) \n",
    "corr_matrix = data[numerical_features].corr()\n",
    "sns.heatmap(corr_matrix, annot = True)"
   ]
  },
  {
   "cell_type": "markdown",
   "id": "7387cf97",
   "metadata": {},
   "source": [
    "The correlation map demostrates linear relationship between the numerical features.<br>\n",
    "Value closer to 1 shows high positive correlation.<br>\n",
    "Value closer to -1 shows high negative correlation.<br>\n",
    "Value 0 means there is no correlation."
   ]
  },
  {
   "cell_type": "markdown",
   "id": "e9eca415",
   "metadata": {
    "papermill": {
     "duration": 0.074506,
     "end_time": "2021-10-07T18:30:27.766980",
     "exception": false,
     "start_time": "2021-10-07T18:30:27.692474",
     "status": "completed"
    },
    "tags": []
   },
   "source": [
    "**Here we can see that citympg and highwaympg have high correlation, so we can drop one of them**"
   ]
  },
  {
   "cell_type": "code",
   "execution_count": 18,
   "id": "43fe0c16",
   "metadata": {
    "execution": {
     "iopub.execute_input": "2021-10-07T18:30:27.926594Z",
     "iopub.status.busy": "2021-10-07T18:30:27.925576Z",
     "iopub.status.idle": "2021-10-07T18:30:27.929094Z",
     "shell.execute_reply": "2021-10-07T18:30:27.928554Z",
     "shell.execute_reply.started": "2021-10-07T18:14:37.076711Z"
    },
    "papermill": {
     "duration": 0.087927,
     "end_time": "2021-10-07T18:30:27.929244",
     "exception": false,
     "start_time": "2021-10-07T18:30:27.841317",
     "status": "completed"
    },
    "tags": []
   },
   "outputs": [],
   "source": [
    "data = data.drop(['citympg'], axis=1)"
   ]
  },
  {
   "cell_type": "code",
   "execution_count": 19,
   "id": "42399fbc",
   "metadata": {
    "execution": {
     "iopub.execute_input": "2021-10-07T18:30:28.088316Z",
     "iopub.status.busy": "2021-10-07T18:30:28.087606Z",
     "iopub.status.idle": "2021-10-07T18:30:28.474884Z",
     "shell.execute_reply": "2021-10-07T18:30:28.475430Z",
     "shell.execute_reply.started": "2021-10-07T18:14:40.034287Z"
    },
    "papermill": {
     "duration": 0.472185,
     "end_time": "2021-10-07T18:30:28.475665",
     "exception": false,
     "start_time": "2021-10-07T18:30:28.003480",
     "status": "completed"
    },
    "tags": []
   },
   "outputs": [
    {
     "data": {
      "text/plain": [
       "<AxesSubplot:xlabel='CarBrand'>"
      ]
     },
     "execution_count": 19,
     "metadata": {},
     "output_type": "execute_result"
    },
    {
     "data": {
      "image/png": "[encoded data removed]",
      "text/plain": [
       "<Figure size 432x288 with 1 Axes>"
      ]
     },
     "metadata": {
      "needs_background": "light"
     },
     "output_type": "display_data"
    }
   ],
   "source": [
    "# distribution of different brands\n",
    "data.groupby('CarBrand')['price'].mean().sort_values().plot(kind='bar')"
   ]
  },
  {
   "cell_type": "code",
   "execution_count": 20,
   "id": "ff6c21e0",
   "metadata": {
    "execution": {
     "iopub.execute_input": "2021-10-07T18:30:28.640626Z",
     "iopub.status.busy": "2021-10-07T18:30:28.639731Z",
     "iopub.status.idle": "2021-10-07T18:30:28.642962Z",
     "shell.execute_reply": "2021-10-07T18:30:28.643716Z",
     "shell.execute_reply.started": "2021-10-07T18:14:41.425307Z"
    },
    "papermill": {
     "duration": 0.090816,
     "end_time": "2021-10-07T18:30:28.643987",
     "exception": false,
     "start_time": "2021-10-07T18:30:28.553171",
     "status": "completed"
    },
    "tags": []
   },
   "outputs": [
    {
     "name": "stdout",
     "output_type": "stream",
     "text": [
      "(205, 23)\n",
      "(205,)\n"
     ]
    }
   ],
   "source": [
    "# Extracting the target and features variable\n",
    "y = data['price']\n",
    "x = data.drop(['price'], axis=1)\n",
    "#shape of X and y\n",
    "print(x.shape)\n",
    "print(y.shape)"
   ]
  },
  {
   "cell_type": "code",
   "execution_count": 21,
   "id": "d1ae82de",
   "metadata": {
    "execution": {
     "iopub.execute_input": "2021-10-07T18:30:28.804500Z",
     "iopub.status.busy": "2021-10-07T18:30:28.803792Z",
     "iopub.status.idle": "2021-10-07T18:30:28.840083Z",
     "shell.execute_reply": "2021-10-07T18:30:28.840680Z",
     "shell.execute_reply.started": "2021-10-07T18:14:43.685403Z"
    },
    "papermill": {
     "duration": 0.117833,
     "end_time": "2021-10-07T18:30:28.840873",
     "exception": false,
     "start_time": "2021-10-07T18:30:28.723040",
     "status": "completed"
    },
    "tags": []
   },
   "outputs": [
    {
     "data": {
      "text/html": [
       "<div>\n",
       "<style scoped>\n",
       "    .dataframe tbody tr th:only-of-type {\n",
       "        vertical-align: middle;\n",
       "    }\n",
       "\n",
       "    .dataframe tbody tr th {\n",
       "        vertical-align: top;\n",
       "    }\n",
       "\n",
       "    .dataframe thead th {\n",
       "        text-align: right;\n",
       "    }\n",
       "</style>\n",
       "<table border=\"1\" class=\"dataframe\">\n",
       "  <thead>\n",
       "    <tr style=\"text-align: right;\">\n",
       "      <th></th>\n",
       "      <th>symboling</th>\n",
       "      <th>wheelbase</th>\n",
       "      <th>carlength</th>\n",
       "      <th>carwidth</th>\n",
       "      <th>carheight</th>\n",
       "      <th>curbweight</th>\n",
       "      <th>enginesize</th>\n",
       "      <th>boreratio</th>\n",
       "      <th>stroke</th>\n",
       "      <th>compressionratio</th>\n",
       "      <th>...</th>\n",
       "      <th>CarBrand_nissan</th>\n",
       "      <th>CarBrand_peugeot</th>\n",
       "      <th>CarBrand_plymouth</th>\n",
       "      <th>CarBrand_porsche</th>\n",
       "      <th>CarBrand_renault</th>\n",
       "      <th>CarBrand_saab</th>\n",
       "      <th>CarBrand_subaru</th>\n",
       "      <th>CarBrand_toyota</th>\n",
       "      <th>CarBrand_volkswagen</th>\n",
       "      <th>CarBrand_volvo</th>\n",
       "    </tr>\n",
       "    <tr>\n",
       "      <th>car_ID</th>\n",
       "      <th></th>\n",
       "      <th></th>\n",
       "      <th></th>\n",
       "      <th></th>\n",
       "      <th></th>\n",
       "      <th></th>\n",
       "      <th></th>\n",
       "      <th></th>\n",
       "      <th></th>\n",
       "      <th></th>\n",
       "      <th></th>\n",
       "      <th></th>\n",
       "      <th></th>\n",
       "      <th></th>\n",
       "      <th></th>\n",
       "      <th></th>\n",
       "      <th></th>\n",
       "      <th></th>\n",
       "      <th></th>\n",
       "      <th></th>\n",
       "      <th></th>\n",
       "    </tr>\n",
       "  </thead>\n",
       "  <tbody>\n",
       "    <tr>\n",
       "      <th>1</th>\n",
       "      <td>3</td>\n",
       "      <td>88.6</td>\n",
       "      <td>168.8</td>\n",
       "      <td>64.1</td>\n",
       "      <td>48.8</td>\n",
       "      <td>2548</td>\n",
       "      <td>130</td>\n",
       "      <td>3.47</td>\n",
       "      <td>2.68</td>\n",
       "      <td>9.0</td>\n",
       "      <td>...</td>\n",
       "      <td>0</td>\n",
       "      <td>0</td>\n",
       "      <td>0</td>\n",
       "      <td>0</td>\n",
       "      <td>0</td>\n",
       "      <td>0</td>\n",
       "      <td>0</td>\n",
       "      <td>0</td>\n",
       "      <td>0</td>\n",
       "      <td>0</td>\n",
       "    </tr>\n",
       "    <tr>\n",
       "      <th>2</th>\n",
       "      <td>3</td>\n",
       "      <td>88.6</td>\n",
       "      <td>168.8</td>\n",
       "      <td>64.1</td>\n",
       "      <td>48.8</td>\n",
       "      <td>2548</td>\n",
       "      <td>130</td>\n",
       "      <td>3.47</td>\n",
       "      <td>2.68</td>\n",
       "      <td>9.0</td>\n",
       "      <td>...</td>\n",
       "      <td>0</td>\n",
       "      <td>0</td>\n",
       "      <td>0</td>\n",
       "      <td>0</td>\n",
       "      <td>0</td>\n",
       "      <td>0</td>\n",
       "      <td>0</td>\n",
       "      <td>0</td>\n",
       "      <td>0</td>\n",
       "      <td>0</td>\n",
       "    </tr>\n",
       "    <tr>\n",
       "      <th>3</th>\n",
       "      <td>1</td>\n",
       "      <td>94.5</td>\n",
       "      <td>171.2</td>\n",
       "      <td>65.5</td>\n",
       "      <td>52.4</td>\n",
       "      <td>2823</td>\n",
       "      <td>152</td>\n",
       "      <td>2.68</td>\n",
       "      <td>3.47</td>\n",
       "      <td>9.0</td>\n",
       "      <td>...</td>\n",
       "      <td>0</td>\n",
       "      <td>0</td>\n",
       "      <td>0</td>\n",
       "      <td>0</td>\n",
       "      <td>0</td>\n",
       "      <td>0</td>\n",
       "      <td>0</td>\n",
       "      <td>0</td>\n",
       "      <td>0</td>\n",
       "      <td>0</td>\n",
       "    </tr>\n",
       "    <tr>\n",
       "      <th>4</th>\n",
       "      <td>2</td>\n",
       "      <td>99.8</td>\n",
       "      <td>176.6</td>\n",
       "      <td>66.2</td>\n",
       "      <td>54.3</td>\n",
       "      <td>2337</td>\n",
       "      <td>109</td>\n",
       "      <td>3.19</td>\n",
       "      <td>3.40</td>\n",
       "      <td>10.0</td>\n",
       "      <td>...</td>\n",
       "      <td>0</td>\n",
       "      <td>0</td>\n",
       "      <td>0</td>\n",
       "      <td>0</td>\n",
       "      <td>0</td>\n",
       "      <td>0</td>\n",
       "      <td>0</td>\n",
       "      <td>0</td>\n",
       "      <td>0</td>\n",
       "      <td>0</td>\n",
       "    </tr>\n",
       "    <tr>\n",
       "      <th>5</th>\n",
       "      <td>2</td>\n",
       "      <td>99.4</td>\n",
       "      <td>176.6</td>\n",
       "      <td>66.4</td>\n",
       "      <td>54.3</td>\n",
       "      <td>2824</td>\n",
       "      <td>136</td>\n",
       "      <td>3.19</td>\n",
       "      <td>3.40</td>\n",
       "      <td>8.0</td>\n",
       "      <td>...</td>\n",
       "      <td>0</td>\n",
       "      <td>0</td>\n",
       "      <td>0</td>\n",
       "      <td>0</td>\n",
       "      <td>0</td>\n",
       "      <td>0</td>\n",
       "      <td>0</td>\n",
       "      <td>0</td>\n",
       "      <td>0</td>\n",
       "      <td>0</td>\n",
       "    </tr>\n",
       "  </tbody>\n",
       "</table>\n",
       "<p>5 rows × 63 columns</p>\n",
       "</div>"
      ],
      "text/plain": [
       "        symboling  wheelbase  carlength  carwidth  carheight  curbweight  \\\n",
       "car_ID                                                                     \n",
       "1               3       88.6      168.8      64.1       48.8        2548   \n",
       "2               3       88.6      168.8      64.1       48.8        2548   \n",
       "3               1       94.5      171.2      65.5       52.4        2823   \n",
       "4               2       99.8      176.6      66.2       54.3        2337   \n",
       "5               2       99.4      176.6      66.4       54.3        2824   \n",
       "\n",
       "        enginesize  boreratio  stroke  compressionratio  ...  CarBrand_nissan  \\\n",
       "car_ID                                                   ...                    \n",
       "1              130       3.47    2.68               9.0  ...                0   \n",
       "2              130       3.47    2.68               9.0  ...                0   \n",
       "3              152       2.68    3.47               9.0  ...                0   \n",
       "4              109       3.19    3.40              10.0  ...                0   \n",
       "5              136       3.19    3.40               8.0  ...                0   \n",
       "\n",
       "        CarBrand_peugeot  CarBrand_plymouth  CarBrand_porsche  \\\n",
       "car_ID                                                          \n",
       "1                      0                  0                 0   \n",
       "2                      0                  0                 0   \n",
       "3                      0                  0                 0   \n",
       "4                      0                  0                 0   \n",
       "5                      0                  0                 0   \n",
       "\n",
       "        CarBrand_renault  CarBrand_saab  CarBrand_subaru  CarBrand_toyota  \\\n",
       "car_ID                                                                      \n",
       "1                      0              0                0                0   \n",
       "2                      0              0                0                0   \n",
       "3                      0              0                0                0   \n",
       "4                      0              0                0                0   \n",
       "5                      0              0                0                0   \n",
       "\n",
       "        CarBrand_volkswagen  CarBrand_volvo  \n",
       "car_ID                                       \n",
       "1                         0               0  \n",
       "2                         0               0  \n",
       "3                         0               0  \n",
       "4                         0               0  \n",
       "5                         0               0  \n",
       "\n",
       "[5 rows x 63 columns]"
      ]
     },
     "execution_count": 21,
     "metadata": {},
     "output_type": "execute_result"
    }
   ],
   "source": [
    "# Encoding categorical variables so that we can use them to predict price     \n",
    "x = pd.get_dummies(x, columns =  categorical_features, drop_first=True)\n",
    "x.head()"
   ]
  },
  {
   "cell_type": "code",
   "execution_count": 22,
   "id": "72bc5bbc",
   "metadata": {
    "execution": {
     "iopub.execute_input": "2021-10-07T18:30:29.017876Z",
     "iopub.status.busy": "2021-10-07T18:30:29.017136Z",
     "iopub.status.idle": "2021-10-07T18:30:29.023601Z",
     "shell.execute_reply": "2021-10-07T18:30:29.024154Z",
     "shell.execute_reply.started": "2021-10-07T18:14:45.675773Z"
    },
    "papermill": {
     "duration": 0.105674,
     "end_time": "2021-10-07T18:30:29.024389",
     "exception": false,
     "start_time": "2021-10-07T18:30:28.918715",
     "status": "completed"
    },
    "tags": []
   },
   "outputs": [
    {
     "name": "stdout",
     "output_type": "stream",
     "text": [
      "(205, 63)\n",
      "(205,)\n"
     ]
    }
   ],
   "source": [
    "#finding new shape\n",
    "print(x.shape)\n",
    "print(y.shape)"
   ]
  },
  {
   "cell_type": "code",
   "execution_count": 23,
   "id": "44afd4a5",
   "metadata": {
    "execution": {
     "iopub.execute_input": "2021-10-07T18:30:29.194466Z",
     "iopub.status.busy": "2021-10-07T18:30:29.193776Z",
     "iopub.status.idle": "2021-10-07T18:30:29.196462Z",
     "shell.execute_reply": "2021-10-07T18:30:29.195878Z",
     "shell.execute_reply.started": "2021-10-07T18:14:47.754067Z"
    },
    "papermill": {
     "duration": 0.084661,
     "end_time": "2021-10-07T18:30:29.196645",
     "exception": false,
     "start_time": "2021-10-07T18:30:29.111984",
     "status": "completed"
    },
    "tags": []
   },
   "outputs": [],
   "source": [
    "#power transforming y to remove skewness and make it similar to Gaussian distribution\n",
    "y=np.log1p(y)"
   ]
  },
  {
   "cell_type": "code",
   "execution_count": 24,
   "id": "cfc1bf87",
   "metadata": {
    "execution": {
     "iopub.execute_input": "2021-10-07T18:30:29.355044Z",
     "iopub.status.busy": "2021-10-07T18:30:29.354402Z",
     "iopub.status.idle": "2021-10-07T18:30:29.657022Z",
     "shell.execute_reply": "2021-10-07T18:30:29.656499Z",
     "shell.execute_reply.started": "2021-10-07T18:14:54.283375Z"
    },
    "papermill": {
     "duration": 0.382796,
     "end_time": "2021-10-07T18:30:29.657171",
     "exception": false,
     "start_time": "2021-10-07T18:30:29.274375",
     "status": "completed"
    },
    "tags": []
   },
   "outputs": [
    {
     "data": {
      "text/plain": [
       "Text(0.5, 1.0, 'Price distribution')"
      ]
     },
     "execution_count": 24,
     "metadata": {},
     "output_type": "execute_result"
    },
    {
     "data": {
      "image/png": "[encoded data removed]",
      "text/plain": [
       "<Figure size 576x288 with 1 Axes>"
      ]
     },
     "metadata": {
      "needs_background": "light"
     },
     "output_type": "display_data"
    }
   ],
   "source": [
    "fig=plt.figure(figsize=(8,4))\n",
    "sns.distplot(y)\n",
    "plt.title(\"Price distribution\")"
   ]
  },
  {
   "cell_type": "code",
   "execution_count": 25,
   "id": "94e03d37",
   "metadata": {
    "execution": {
     "iopub.execute_input": "2021-10-07T18:30:29.818734Z",
     "iopub.status.busy": "2021-10-07T18:30:29.818091Z",
     "iopub.status.idle": "2021-10-07T18:30:29.825391Z",
     "shell.execute_reply": "2021-10-07T18:30:29.824763Z",
     "shell.execute_reply.started": "2021-10-07T18:14:57.183167Z"
    },
    "papermill": {
     "duration": 0.089707,
     "end_time": "2021-10-07T18:30:29.825556",
     "exception": false,
     "start_time": "2021-10-07T18:30:29.735849",
     "status": "completed"
    },
    "tags": []
   },
   "outputs": [
    {
     "name": "stdout",
     "output_type": "stream",
     "text": [
      "0.6729635607485753\n"
     ]
    }
   ],
   "source": [
    "print(y.skew()) "
   ]
  },
  {
   "cell_type": "markdown",
   "id": "14bbbbd5",
   "metadata": {},
   "source": [
    "Skeweness of target variable decreased."
   ]
  },
  {
   "cell_type": "code",
   "execution_count": 26,
   "id": "794f2c9e",
   "metadata": {
    "execution": {
     "iopub.execute_input": "2021-10-07T18:30:29.995601Z",
     "iopub.status.busy": "2021-10-07T18:30:29.994840Z",
     "iopub.status.idle": "2021-10-07T18:30:30.140656Z",
     "shell.execute_reply": "2021-10-07T18:30:30.141254Z",
     "shell.execute_reply.started": "2021-10-07T18:14:58.955854Z"
    },
    "papermill": {
     "duration": 0.233752,
     "end_time": "2021-10-07T18:30:30.141493",
     "exception": false,
     "start_time": "2021-10-07T18:30:29.907741",
     "status": "completed"
    },
    "tags": []
   },
   "outputs": [],
   "source": [
    "#Scaling data to remove any bias from magnitude of data\n",
    "from sklearn.preprocessing import StandardScaler\n",
    "scaler = StandardScaler()\n",
    "x = scaler.fit_transform(x)"
   ]
  },
  {
   "cell_type": "markdown",
   "id": "b4da11e2",
   "metadata": {
    "papermill": {
     "duration": 0.083379,
     "end_time": "2021-10-07T18:30:30.306428",
     "exception": false,
     "start_time": "2021-10-07T18:30:30.223049",
     "status": "completed"
    },
    "tags": []
   },
   "source": [
    "# Linear Regression"
   ]
  },
  {
   "cell_type": "code",
   "execution_count": 27,
   "id": "0c25103f",
   "metadata": {
    "execution": {
     "iopub.execute_input": "2021-10-07T18:30:30.475677Z",
     "iopub.status.busy": "2021-10-07T18:30:30.474960Z",
     "iopub.status.idle": "2021-10-07T18:30:30.537252Z",
     "shell.execute_reply": "2021-10-07T18:30:30.536673Z",
     "shell.execute_reply.started": "2021-10-07T18:15:00.675843Z"
    },
    "papermill": {
     "duration": 0.150627,
     "end_time": "2021-10-07T18:30:30.537450",
     "exception": false,
     "start_time": "2021-10-07T18:30:30.386823",
     "status": "completed"
    },
    "tags": []
   },
   "outputs": [],
   "source": [
    "# Splitting into train and test data\n",
    "from sklearn.model_selection import train_test_split\n",
    "from sklearn.metrics import r2_score\n",
    "x_train, x_test, y_train, y_test = train_test_split(x, y, test_size = 0.3, random_state = 42)"
   ]
  },
  {
   "cell_type": "code",
   "execution_count": 28,
   "id": "4454eca3",
   "metadata": {
    "execution": {
     "iopub.execute_input": "2021-10-07T18:30:30.867838Z",
     "iopub.status.busy": "2021-10-07T18:30:30.867117Z",
     "iopub.status.idle": "2021-10-07T18:30:30.992647Z",
     "shell.execute_reply": "2021-10-07T18:30:30.993684Z",
     "shell.execute_reply.started": "2021-10-07T18:15:04.954003Z"
    },
    "papermill": {
     "duration": 0.213124,
     "end_time": "2021-10-07T18:30:30.994055",
     "exception": false,
     "start_time": "2021-10-07T18:30:30.780931",
     "status": "completed"
    },
    "tags": []
   },
   "outputs": [
    {
     "name": "stdout",
     "output_type": "stream",
     "text": [
      "R2_sccore = 0.9062254346134724\n",
      "Score_linear_reg = 0.8946840563191778\n"
     ]
    }
   ],
   "source": [
    "score_r2 = []\n",
    "from sklearn.linear_model import LinearRegression\n",
    "lr = LinearRegression()\n",
    "lr.fit(x_train, y_train)\n",
    "y_pred_lr = lr.predict(x_test)\n",
    "\n",
    "#r2_score to evaluate model\n",
    "r2_linear = r2_score(y_pred_lr, y_test)\n",
    "score_r2.append(r2_linear)\n",
    "print(\"R2_sccore =\",r2_linear)\n",
    "print(\"Score_linear_reg =\", lr.score(x_test, y_test))\n"
   ]
  },
  {
   "cell_type": "markdown",
   "id": "63a4af95",
   "metadata": {
    "papermill": {
     "duration": 0.088195,
     "end_time": "2021-10-07T18:30:31.245112",
     "exception": false,
     "start_time": "2021-10-07T18:30:31.156917",
     "status": "completed"
    },
    "tags": []
   },
   "source": [
    "# Lasso Regularization and Regression"
   ]
  },
  {
   "cell_type": "code",
   "execution_count": 29,
   "id": "7c7693c6",
   "metadata": {
    "execution": {
     "iopub.execute_input": "2021-10-07T18:30:31.445550Z",
     "iopub.status.busy": "2021-10-07T18:30:31.444606Z",
     "iopub.status.idle": "2021-10-07T18:30:31.601501Z",
     "shell.execute_reply": "2021-10-07T18:30:31.600623Z",
     "shell.execute_reply.started": "2021-10-07T18:15:21.455202Z"
    },
    "papermill": {
     "duration": 0.271898,
     "end_time": "2021-10-07T18:30:31.601754",
     "exception": false,
     "start_time": "2021-10-07T18:30:31.329856",
     "status": "completed"
    },
    "tags": []
   },
   "outputs": [
    {
     "name": "stdout",
     "output_type": "stream",
     "text": [
      "R2_score = 0.924641369844631\n",
      "Score_lassocv = 0.9234047159444065\n"
     ]
    }
   ],
   "source": [
    "from sklearn.linear_model import LassoCV\n",
    "lassocv=LassoCV()\n",
    "lassocv.fit(x_train, y_train)\n",
    "y_pred_lasso = lassocv.predict(x_test)\n",
    "r2_lasso = r2_score(y_pred_lasso, y_test)\n",
    "score_r2.append(r2_lasso)\n",
    "print(\"R2_score =\", r2_lasso)\n",
    "print(\"Score_lassocv =\",lassocv.score(x_test, y_test))"
   ]
  },
  {
   "cell_type": "markdown",
   "id": "c579a67d",
   "metadata": {
    "papermill": {
     "duration": 0.080119,
     "end_time": "2021-10-07T18:30:31.765191",
     "exception": false,
     "start_time": "2021-10-07T18:30:31.685072",
     "status": "completed"
    },
    "tags": []
   },
   "source": [
    "# Ridge Regression"
   ]
  },
  {
   "cell_type": "code",
   "execution_count": 30,
   "id": "6b96212f",
   "metadata": {
    "execution": {
     "iopub.execute_input": "2021-10-07T18:30:31.938909Z",
     "iopub.status.busy": "2021-10-07T18:30:31.934463Z",
     "iopub.status.idle": "2021-10-07T18:30:31.948610Z",
     "shell.execute_reply": "2021-10-07T18:30:31.949105Z",
     "shell.execute_reply.started": "2021-10-07T18:15:25.564373Z"
    },
    "papermill": {
     "duration": 0.103348,
     "end_time": "2021-10-07T18:30:31.949286",
     "exception": false,
     "start_time": "2021-10-07T18:30:31.845938",
     "status": "completed"
    },
    "tags": []
   },
   "outputs": [
    {
     "name": "stdout",
     "output_type": "stream",
     "text": [
      "R2_score = 0.9169931974771033\n",
      "Score_Ridge = 0.9113509688228285\n"
     ]
    }
   ],
   "source": [
    "from sklearn.linear_model import Ridge\n",
    "rr = Ridge()\n",
    "rr.fit(x_train, y_train)\n",
    "y_pred_ridge = rr.predict(x_test)\n",
    "r2_ridge = r2_score(y_pred_ridge, y_test)\n",
    "score_r2.append(r2_ridge)\n",
    "print(\"R2_score =\", r2_ridge)\n",
    "print(\"Score_Ridge =\",rr.score(x_test, y_test))"
   ]
  },
  {
   "cell_type": "markdown",
   "id": "5f0ce5ee",
   "metadata": {
    "papermill": {
     "duration": 0.078812,
     "end_time": "2021-10-07T18:30:32.656432",
     "exception": false,
     "start_time": "2021-10-07T18:30:32.577620",
     "status": "completed"
    },
    "tags": []
   },
   "source": [
    "# Random Forest Regressor"
   ]
  },
  {
   "cell_type": "code",
   "execution_count": 31,
   "id": "a0d3cf36",
   "metadata": {
    "execution": {
     "iopub.execute_input": "2021-10-07T18:30:32.822373Z",
     "iopub.status.busy": "2021-10-07T18:30:32.821592Z",
     "iopub.status.idle": "2021-10-07T18:30:33.537274Z",
     "shell.execute_reply": "2021-10-07T18:30:33.536415Z",
     "shell.execute_reply.started": "2021-10-07T18:15:31.353135Z"
    },
    "papermill": {
     "duration": 0.801196,
     "end_time": "2021-10-07T18:30:33.537465",
     "exception": false,
     "start_time": "2021-10-07T18:30:32.736269",
     "status": "completed"
    },
    "tags": []
   },
   "outputs": [
    {
     "name": "stdout",
     "output_type": "stream",
     "text": [
      "R2_score = 0.9218896482546959\n",
      "Score_RandomForest = 0.9254855419736839\n"
     ]
    }
   ],
   "source": [
    "from sklearn.ensemble import RandomForestRegressor\n",
    "rf = RandomForestRegressor(n_estimators = 220, random_state = 42)\n",
    "rf.fit(x_train, y_train)\n",
    "y_pred_rf = rf.predict(x_test)\n",
    "r2_rf = r2_score(y_pred_rf, y_test)\n",
    "score_r2.append(r2_rf)\n",
    "print(\"R2_score =\", r2_rf)\n",
    "print(\"Score_RandomForest =\",rf.score(x_test, y_test))"
   ]
  },
  {
   "cell_type": "code",
   "execution_count": 32,
   "id": "bd4c1ec7",
   "metadata": {
    "execution": {
     "iopub.execute_input": "2021-10-07T18:30:33.776549Z",
     "iopub.status.busy": "2021-10-07T18:30:33.775667Z",
     "iopub.status.idle": "2021-10-07T18:30:33.779343Z",
     "shell.execute_reply": "2021-10-07T18:30:33.779843Z",
     "shell.execute_reply.started": "2021-10-07T18:15:34.336574Z"
    },
    "papermill": {
     "duration": 0.159584,
     "end_time": "2021-10-07T18:30:33.780039",
     "exception": false,
     "start_time": "2021-10-07T18:30:33.620455",
     "status": "completed"
    },
    "tags": []
   },
   "outputs": [
    {
     "data": {
      "text/html": [
       "<div>\n",
       "<style scoped>\n",
       "    .dataframe tbody tr th:only-of-type {\n",
       "        vertical-align: middle;\n",
       "    }\n",
       "\n",
       "    .dataframe tbody tr th {\n",
       "        vertical-align: top;\n",
       "    }\n",
       "\n",
       "    .dataframe thead th {\n",
       "        text-align: right;\n",
       "    }\n",
       "</style>\n",
       "<table border=\"1\" class=\"dataframe\">\n",
       "  <thead>\n",
       "    <tr style=\"text-align: right;\">\n",
       "      <th></th>\n",
       "      <th>R2_score</th>\n",
       "    </tr>\n",
       "  </thead>\n",
       "  <tbody>\n",
       "    <tr>\n",
       "      <th>LinearRegression</th>\n",
       "      <td>0.906225</td>\n",
       "    </tr>\n",
       "    <tr>\n",
       "      <th>LassoRegression</th>\n",
       "      <td>0.924641</td>\n",
       "    </tr>\n",
       "    <tr>\n",
       "      <th>RidgeRegression</th>\n",
       "      <td>0.916993</td>\n",
       "    </tr>\n",
       "    <tr>\n",
       "      <th>RandomForest</th>\n",
       "      <td>0.921890</td>\n",
       "    </tr>\n",
       "  </tbody>\n",
       "</table>\n",
       "</div>"
      ],
      "text/plain": [
       "                  R2_score\n",
       "LinearRegression  0.906225\n",
       "LassoRegression   0.924641\n",
       "RidgeRegression   0.916993\n",
       "RandomForest      0.921890"
      ]
     },
     "execution_count": 32,
     "metadata": {},
     "output_type": "execute_result"
    }
   ],
   "source": [
    "#Comparing how each model performed\n",
    "model_names = ['LinearRegression', 'LassoRegression', 'RidgeRegression', 'RandomForest']\n",
    "result_df = pd.DataFrame({'R2_score':score_r2}, index  = model_names)\n",
    "result_df"
   ]
  },
  {
   "cell_type": "markdown",
   "id": "538ca8d4",
   "metadata": {
    "papermill": {
     "duration": 0.079759,
     "end_time": "2021-10-07T18:30:33.940907",
     "exception": false,
     "start_time": "2021-10-07T18:30:33.861148",
     "status": "completed"
    },
    "tags": []
   },
   "source": [
    "**From the table we can see that Lasso is the best model, followed by Random Forest model**"
   ]
  },
  {
   "cell_type": "code",
   "execution_count": null,
   "id": "516db883",
   "metadata": {
    "papermill": {
     "duration": 0.080768,
     "end_time": "2021-10-07T18:30:34.101756",
     "exception": false,
     "start_time": "2021-10-07T18:30:34.020988",
     "status": "completed"
    },
    "tags": []
   },
   "outputs": [],
   "source": []
  }
 ],
 "metadata": {
  "kernelspec": {
   "display_name": "Python 3 (ipykernel)",
   "language": "python",
   "name": "python3"
  },
  "language_info": {
   "codemirror_mode": {
    "name": "ipython",
    "version": 3
   },
   "file_extension": ".py",
   "mimetype": "text/x-python",
   "name": "python",
   "nbconvert_exporter": "python",
   "pygments_lexer": "ipython3",
   "version": "3.8.3"
  },
  "papermill": {
   "default_parameters": {},
   "duration": 71.021631,
   "end_time": "2021-10-07T18:30:36.264370",
   "environment_variables": {},
   "exception": null,
   "input_path": "__notebook__.ipynb",
   "output_path": "__notebook__.ipynb",
   "parameters": {},
   "start_time": "2021-10-07T18:29:25.242739",
   "version": "2.3.3"
  }
 },
 "nbformat": 4,
 "nbformat_minor": 5
}
